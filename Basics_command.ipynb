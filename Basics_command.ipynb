{
 "cells": [
  {
   "cell_type": "code",
   "execution_count": 1,
   "id": "00c699ac-2c64-4d52-9983-c0a6085a5261",
   "metadata": {
    "tags": []
   },
   "outputs": [
    {
     "data": {
      "text/plain": [
       "3"
      ]
     },
     "execution_count": 1,
     "metadata": {},
     "output_type": "execute_result"
    }
   ],
   "source": [
    "\n",
    "# Numeros e operações aritméticas\n",
    "\n",
    "2+1 # Soma"
   ]
  },
  {
   "cell_type": "code",
   "execution_count": 2,
   "id": "61f9d8d0-001e-4020-bcc1-0f18306c63d5",
   "metadata": {
    "tags": []
   },
   "outputs": [
    {
     "data": {
      "text/plain": [
       "1"
      ]
     },
     "execution_count": 2,
     "metadata": {},
     "output_type": "execute_result"
    }
   ],
   "source": [
    "2-1 # Subtração"
   ]
  },
  {
   "cell_type": "code",
   "execution_count": 3,
   "id": "1d9d04c4-1a2d-49ef-9dfa-427347a99f7b",
   "metadata": {
    "tags": []
   },
   "outputs": [
    {
     "data": {
      "text/plain": [
       "0.75"
      ]
     },
     "execution_count": 3,
     "metadata": {},
     "output_type": "execute_result"
    }
   ],
   "source": [
    "3/4 # Divisão"
   ]
  },
  {
   "cell_type": "code",
   "execution_count": 4,
   "id": "92f43c6d-3bcb-458c-9141-045c567cda55",
   "metadata": {
    "tags": []
   },
   "outputs": [
    {
     "data": {
      "text/plain": [
       "256"
      ]
     },
     "execution_count": 4,
     "metadata": {},
     "output_type": "execute_result"
    }
   ],
   "source": [
    "# Potencia / exponencial\n",
    "2**8"
   ]
  },
  {
   "cell_type": "code",
   "execution_count": 5,
   "id": "4b9538c6-378e-4311-a8f3-6daabf1ddaa0",
   "metadata": {
    "tags": []
   },
   "outputs": [
    {
     "data": {
      "text/plain": [
       "5"
      ]
     },
     "execution_count": 5,
     "metadata": {},
     "output_type": "execute_result"
    }
   ],
   "source": [
    "# Variáveis\n",
    "a = 5\n",
    "a"
   ]
  },
  {
   "cell_type": "code",
   "execution_count": 7,
   "id": "30375de0-cd1f-4d94-b96b-3b2676392fa3",
   "metadata": {
    "tags": []
   },
   "outputs": [
    {
     "data": {
      "text/plain": [
       "'Oi'"
      ]
     },
     "execution_count": 7,
     "metadata": {},
     "output_type": "execute_result"
    }
   ],
   "source": [
    "# Strings\n",
    "minha_string = \"Oi\"\n",
    "minha_string"
   ]
  },
  {
   "cell_type": "code",
   "execution_count": 8,
   "id": "3d35966e-9a1e-456a-ba1d-d458c611fd01",
   "metadata": {
    "tags": []
   },
   "outputs": [
    {
     "data": {
      "text/plain": [
       "2"
      ]
     },
     "execution_count": 8,
     "metadata": {},
     "output_type": "execute_result"
    }
   ],
   "source": [
    "len(minha_string"
   ]
  },
  {
   "cell_type": "code",
   "execution_count": 9,
   "id": "75c4c03b-bb90-4cba-8a97-09e4b8f870e4",
   "metadata": {
    "tags": []
   },
   "outputs": [
    {
     "data": {
      "text/plain": [
       "'OI'"
      ]
     },
     "execution_count": 9,
     "metadata": {},
     "output_type": "execute_result"
    }
   ],
   "source": [
    "# Colocar em maiúsculo\n",
    "minha_string.upper()"
   ]
  },
  {
   "cell_type": "code",
   "execution_count": 10,
   "id": "240e8c3b-9070-41aa-ae61-7e9031aad7aa",
   "metadata": {
    "tags": []
   },
   "outputs": [
    {
     "data": {
      "text/plain": [
       "'guilherme'"
      ]
     },
     "execution_count": 10,
     "metadata": {},
     "output_type": "execute_result"
    }
   ],
   "source": [
    "# Colocar em minúsculo\n",
    "\"Guilherme\".lower()"
   ]
  },
  {
   "cell_type": "code",
   "execution_count": 12,
   "id": "ea8fcc9e-1dce-4ffe-93e2-b499e505a18a",
   "metadata": {
    "tags": []
   },
   "outputs": [
    {
     "data": {
      "text/plain": [
       "['Guilherme', 'Guilhermino', 'Neto']"
      ]
     },
     "execution_count": 12,
     "metadata": {},
     "output_type": "execute_result"
    }
   ],
   "source": [
    "# Quebrando minha string\n",
    "minha_string2 = \"Guilherme Guilhermino Neto\"\n",
    "minha_string2.split()"
   ]
  },
  {
   "cell_type": "code",
   "execution_count": 13,
   "id": "6f350d2f-96f7-407c-8199-ce1d9f0e9966",
   "metadata": {
    "tags": []
   },
   "outputs": [
    {
     "data": {
      "text/plain": [
       "['', 'uilherme ', 'uilhermino Neto']"
      ]
     },
     "execution_count": 13,
     "metadata": {},
     "output_type": "execute_result"
    }
   ],
   "source": [
    "minha_string2.split('G')"
   ]
  },
  {
   "cell_type": "code",
   "execution_count": 19,
   "id": "39e2d9bc-118c-4a93-81de-a5793c2890be",
   "metadata": {
    "tags": []
   },
   "outputs": [
    {
     "data": {
      "text/plain": [
       "[2, 4, 5, 7]"
      ]
     },
     "execution_count": 19,
     "metadata": {},
     "output_type": "execute_result"
    }
   ],
   "source": [
    "# Listas\n",
    "minha_lista = [2,4,5,7]\n",
    "minha_lista = sorted(minha_lista)\n",
    "\n",
    "minha_lista"
   ]
  },
  {
   "cell_type": "code",
   "execution_count": 15,
   "id": "a29101d7-ab69-4fa7-9d57-65bc547c6377",
   "metadata": {
    "tags": []
   },
   "outputs": [
    {
     "data": {
      "text/plain": [
       "2"
      ]
     },
     "execution_count": 15,
     "metadata": {},
     "output_type": "execute_result"
    }
   ],
   "source": [
    "minha_lista[0]"
   ]
  },
  {
   "cell_type": "code",
   "execution_count": 20,
   "id": "2b0a6ea8-424a-44ac-bde1-7098f53040b2",
   "metadata": {
    "tags": []
   },
   "outputs": [
    {
     "data": {
      "text/plain": [
       "[2, 4]"
      ]
     },
     "execution_count": 20,
     "metadata": {},
     "output_type": "execute_result"
    }
   ],
   "source": [
    "minha_lista[0:2]"
   ]
  },
  {
   "cell_type": "code",
   "execution_count": null,
   "id": "5e79a521-95ab-4977-92ea-90750578d5dc",
   "metadata": {},
   "outputs": [],
   "source": [
    "minha_lista[-1]"
   ]
  },
  {
   "cell_type": "code",
   "execution_count": 22,
   "id": "34590397-74a6-4267-ae6f-8b44260ded3c",
   "metadata": {
    "tags": []
   },
   "outputs": [
    {
     "data": {
      "text/plain": [
       "[2, 4, 5, 7, 10, 10]"
      ]
     },
     "execution_count": 22,
     "metadata": {},
     "output_type": "execute_result"
    }
   ],
   "source": [
    "# Acrescentando elemento á lista\n",
    "minha_lista.append(10)\n",
    "minha_lista"
   ]
  },
  {
   "cell_type": "code",
   "execution_count": 23,
   "id": "ab8156cd-0923-4f53-87ed-446d5ace4a54",
   "metadata": {
    "tags": []
   },
   "outputs": [
    {
     "data": {
      "text/plain": [
       "[2, 4, 5, 7, 10]"
      ]
     },
     "execution_count": 23,
     "metadata": {},
     "output_type": "execute_result"
    }
   ],
   "source": [
    "minha_lista.pop()\n",
    "minha_lista"
   ]
  },
  {
   "cell_type": "code",
   "execution_count": 25,
   "id": "2f43b042-b09d-4e8b-8e45-74424aeac7be",
   "metadata": {
    "tags": []
   },
   "outputs": [
    {
     "data": {
      "text/plain": [
       "['a', 'b', 'c', 'd']"
      ]
     },
     "execution_count": 25,
     "metadata": {},
     "output_type": "execute_result"
    }
   ],
   "source": [
    "minha_lista2 = [\"d\", \"b\", \"c\", \"a\"]\n",
    "minha_lista2.sort()\n",
    "minha_lista2"
   ]
  },
  {
   "cell_type": "code",
   "execution_count": 26,
   "id": "245fd978-233f-462c-87ec-106463754d16",
   "metadata": {
    "tags": []
   },
   "outputs": [
    {
     "data": {
      "text/plain": [
       "['d', 'c', 'b', 'a']"
      ]
     },
     "execution_count": 26,
     "metadata": {},
     "output_type": "execute_result"
    }
   ],
   "source": [
    "# Ordem reversa\n",
    "minha_lista2.reverse()\n",
    "minha_lista2"
   ]
  },
  {
   "cell_type": "code",
   "execution_count": 29,
   "id": "4f19dd9f-a993-41fa-9b1f-db2403db8219",
   "metadata": {
    "tags": []
   },
   "outputs": [
    {
     "name": "stdout",
     "output_type": "stream",
     "text": [
      "Digite seu nome:\n"
     ]
    },
    {
     "name": "stdin",
     "output_type": "stream",
     "text": [
      " mateus\n"
     ]
    },
    {
     "name": "stdout",
     "output_type": "stream",
     "text": [
      "Nome é mateus\n"
     ]
    }
   ],
   "source": [
    "# Input\n",
    "print(\"Digite seu nome:\")\n",
    "name = input()\n",
    "print(\"Nome é\", name)"
   ]
  }
 ],
 "metadata": {
  "kernelspec": {
   "display_name": "Python 3 (ipykernel)",
   "language": "python",
   "name": "python3"
  },
  "language_info": {
   "codemirror_mode": {
    "name": "ipython",
    "version": 3
   },
   "file_extension": ".py",
   "mimetype": "text/x-python",
   "name": "python",
   "nbconvert_exporter": "python",
   "pygments_lexer": "ipython3",
   "version": "3.11.5"
  }
 },
 "nbformat": 4,
 "nbformat_minor": 5
}
